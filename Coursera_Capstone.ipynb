{
  "nbformat": 4,
  "nbformat_minor": 0,
  "metadata": {
    "colab": {
      "provenance": []
    },
    "kernelspec": {
      "name": "python3",
      "display_name": "Python 3"
    },
    "language_info": {
      "name": "python"
    }
  },
  "cells": [
    {
      "cell_type": "code",
      "execution_count": 3,
      "metadata": {
        "id": "oj9Tkn5dM_IJ"
      },
      "outputs": [],
      "source": [
        "import pandas as p\n",
        "import numpy as np"
      ]
    },
    {
      "cell_type": "code",
      "source": [
        "print(\" ¡Hola, Proyecto Final del Curso!\")"
      ],
      "metadata": {
        "colab": {
          "base_uri": "https://localhost:8080/"
        },
        "id": "DnziQZTpNIBA",
        "outputId": "1b3e005f-bb2b-4de7-b3b0-671e5555599a"
      },
      "execution_count": 2,
      "outputs": [
        {
          "output_type": "stream",
          "name": "stdout",
          "text": [
            " ¡Hola, Proyecto Final del Curso!\n"
          ]
        }
      ]
    }
  ]
}