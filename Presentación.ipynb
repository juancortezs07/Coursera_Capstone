{
  "nbformat": 4,
  "nbformat_minor": 0,
  "metadata": {
    "colab": {
      "provenance": []
    },
    "kernelspec": {
      "name": "python3",
      "display_name": "Python 3"
    },
    "language_info": {
      "name": "python"
    }
  },
  "cells": [
    {
      "cell_type": "markdown",
      "source": [
        "#INTRODUCCIÓN:"
      ],
      "metadata": {
        "id": "Om_Ll_TpGOCW"
      }
    },
    {
      "cell_type": "markdown",
      "source": [
        "Estados unidos está constituido por muchos ciudadanos provenientes de distintas partes del mudo.  Esto debido a que es conocido mundialmente como el país de las oportunidades. Así también tiene ciudades muy bellas , enormes  y magníficas.\n",
        "Esto le hace  unb  país se muy atractivo  ent todos los sentidos, así como también sus ciudades lo son.\n",
        "Para este proyecto vamos a trabajar con una de las ciuades más importantes a nivel  no solamente de Estados Unidos , si no también del mundo, esta ciudad es Nueva York.\n",
        "La cual está compuesta por 5 distritos, es dónde se ubica Wall Street, la estatua de La Liberta, entre otros lugares importantes, además  es la ciudad más poblada del país. Los 5 distritos son : Bronx, Brooklyn, Manhattan, Queens y Staten Island.  Esto la vuelve una ciudad muy apreciada ."
      ],
      "metadata": {
        "id": "VSd1TYvUGS2v"
      }
    },
    {
      "cell_type": "markdown",
      "source": [],
      "metadata": {
        "id": "OLigAJ0oIUtI"
      }
    },
    {
      "cell_type": "markdown",
      "source": [
        "#PRESENTACIÓN DEL PROBLEMA"
      ],
      "metadata": {
        "id": "t78QYKbbITz3"
      }
    },
    {
      "cell_type": "markdown",
      "source": [
        "\n",
        "Nueva York es  muy famosa también  por su sector culinario.La cultura gastronómica incluye toda una gama de cocinas internacionales influidas por la historia inmigrante de la ciudad.\n",
        "\n",
        "Una de estas cocinas, es la japonesa y su plato abanderado el Sushi, que es también muy famoso a nivel mundial. Así que, empezar un negocio culinario en Nueva York es algo muy llamativo e importante. Sin embargo, también hay que saber en dónde poner un resturante, por ejemplo, capaz se prefiere en un lugar cercano a otros restaurantes , o que más cercanos a parques, oficinas, etc. Esto dependerá del público al que esté enfocado el empresario.\n",
        "\n"
      ],
      "metadata": {
        "id": "sQcF5JzJIYBK"
      }
    },
    {
      "cell_type": "markdown",
      "source": [],
      "metadata": {
        "id": "J1HiOicnJnrz"
      }
    },
    {
      "cell_type": "markdown",
      "source": [
        "#ENCONTRANDO UN LUGAR ADECUADO PARA EL RESTAURANTE:"
      ],
      "metadata": {
        "id": "8OLSh314JoAU"
      }
    },
    {
      "cell_type": "markdown",
      "source": [
        "Como se mencionó anteriormente la ubicación del local debe regirse en base al público que quiera captar ,  si desea  buena afluencia de público, deberá ubicarse cerca a centro comerciales, otros restaruantes, lugares turísticos ,etc.\n",
        "Por otro lado, si desea enfocarse en un público más selecto, pues estar en zona muy cotizada, privada sería una mejor elección , además deberá tener en cuenta que debería tener un amplio lugar de estacionamiento, entre otros detalles."
      ],
      "metadata": {
        "id": "krQjrmfFKHvx"
      }
    },
    {
      "cell_type": "code",
      "source": [],
      "metadata": {
        "id": "NdYSnDPpKzX3"
      },
      "execution_count": null,
      "outputs": []
    },
    {
      "cell_type": "markdown",
      "source": [
        "#PÚBLICO OBJETIVO: "
      ],
      "metadata": {
        "id": "0gFR2vPlK2U5"
      }
    },
    {
      "cell_type": "markdown",
      "source": [
        "El dueño de una cadena de restaurantes de Sushi quiere abrir un sucursal en N.Y., preferíblemente en Manhattan, por lo tanto, el análisis se hará en esa y recomendar la mejor ubicación tomando en cuenta  la zona, competencia, densidad, entre otros factores."
      ],
      "metadata": {
        "id": "593DjNdyLf9v"
      }
    }
  ]
}